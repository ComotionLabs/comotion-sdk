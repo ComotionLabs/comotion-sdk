{
 "cells": [
  {
   "cell_type": "code",
   "execution_count": 1,
   "id": "774af711",
   "metadata": {},
   "outputs": [],
   "source": [
    "import requests\n",
    "from comotion.dash import DashConfig, Query, Load\n",
    "from comotion.auth import Auth"
   ]
  },
  {
   "cell_type": "code",
   "execution_count": 2,
   "id": "642e1ebb",
   "metadata": {},
   "outputs": [
    {
     "data": {
      "text/plain": [
       "<comotion.dash.DashConfig at 0x1f01f0d50a0>"
      ]
     },
     "execution_count": 2,
     "metadata": {},
     "output_type": "execute_result"
    }
   ],
   "source": [
    "org_name = 'qainitech'\n",
    "config = DashConfig(auth = Auth(orgname=org_name), zone = 'accounting')\n",
    "config"
   ]
  },
  {
   "cell_type": "code",
   "execution_count": 3,
   "id": "2b135346",
   "metadata": {},
   "outputs": [
    {
     "data": {
      "text/plain": [
       "Query(query='select 1', query_id='d6a5f400-4ab2-4db8-92f2-4978d5ed6c74', statement_type='DML', status=QueryStatus(state='FAILED', state_change_reason='Access denied when writing output to url: s3://zoneaccounting-zonequeryoutputbucket-fxi0b5cdletr/ddc84a1b64c3f73a/d6a5f400-4ab2-4db8-92f2-4978d5ed6c74.csv . Please ensure you are allowed to access the S3 bucket. If specifying an expected bucket owner, confirm the bucket is owned by the expected account. If you are encrypting query results with KMS key, please ensure you are allowed to access your KMS key', submission_date_time='04-16-2025 10:23:51', completion_date_time='04-16-2025 10:23:53'))"
      ]
     },
     "execution_count": 3,
     "metadata": {},
     "output_type": "execute_result"
    }
   ],
   "source": [
    "query = Query(config= config, query_text = 'select 1')\n",
    "query.wait_to_complete()\n"
   ]
  },
  {
   "cell_type": "code",
   "execution_count": 3,
   "id": "8faa926f",
   "metadata": {},
   "outputs": [
    {
     "data": {
      "text/plain": [
       "<comotion.dash.Load at 0x1f01f0d5eb0>"
      ]
     },
     "execution_count": 3,
     "metadata": {},
     "output_type": "execute_result"
    }
   ],
   "source": [
    "load = Load(\n",
    "    config = config,\n",
    "    load_type = 'APPEND_ONLY',\n",
    "    table_name = 'v1_test',\n",
    "    track_rows_uploaded = True\n",
    ")\n",
    "load"
   ]
  },
  {
   "cell_type": "markdown",
   "id": "7afd0804",
   "metadata": {},
   "source": [
    "load.upload_file(\n",
    "    \n",
    ")"
   ]
  }
 ],
 "metadata": {
  "kernelspec": {
   "display_name": "comotion-sdk-Mp_KVqrU",
   "language": "python",
   "name": "python3"
  },
  "language_info": {
   "codemirror_mode": {
    "name": "ipython",
    "version": 3
   },
   "file_extension": ".py",
   "mimetype": "text/x-python",
   "name": "python",
   "nbconvert_exporter": "python",
   "pygments_lexer": "ipython3",
   "version": "3.9.11"
  }
 },
 "nbformat": 4,
 "nbformat_minor": 5
}
